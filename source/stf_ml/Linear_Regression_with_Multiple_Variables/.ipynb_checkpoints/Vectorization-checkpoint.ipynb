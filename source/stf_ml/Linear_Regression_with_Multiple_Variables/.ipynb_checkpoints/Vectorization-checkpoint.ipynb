{
 "cells": [
  {
   "cell_type": "markdown",
   "metadata": {
    "collapsed": true
   },
   "source": [
    "**Unvectorized implementation**\n",
    "\n",
    "`matlab` 是从 $\\theta(1)$ 开始，所以是 `1:n+1`\n",
    "```matlab\n",
    "prediction = 0.0;\n",
    "for j = 1:n+1, \n",
    "  prediction = prediction + theta(j) * x(j)\n",
    "end;\n",
    "```\n",
    "\n",
    "**Vectorized implementation**\n",
    "\n",
    "```matlab\n",
    "prediction = theta' * x;\n",
    "```"
   ]
  },
  {
   "cell_type": "markdown",
   "metadata": {},
   "source": [
    "**把 求 $\\theta$ 向量化**\n",
    "\n",
    "$\\theta - \\alpha \\xi$\n",
    "\n",
    "$\\xi = \\frac{1}{m}\\sum_{i=1}^M (h{_{\\theta}}(x{^{(i)}})-y{^{(i)}}) x {^{(i)}}\n",
    "$"
   ]
  },
  {
   "cell_type": "code",
   "execution_count": 20,
   "metadata": {
    "collapsed": false
   },
   "outputs": [
    {
     "name": "stdout",
     "output_type": "stream",
     "text": [
      "v =\n",
      "\n",
      "     1\n",
      "     0\n",
      "     0\n",
      "\n",
      "\n",
      "v =\n",
      "\n",
      "     5\n",
      "     0\n",
      "     0\n",
      "\n",
      "\n",
      "v =\n",
      "\n",
      "    14\n",
      "     0\n",
      "     0\n",
      "\n",
      "\n",
      "v =\n",
      "\n",
      "    14\n",
      "     1\n",
      "     0\n",
      "\n",
      "\n",
      "v =\n",
      "\n",
      "    14\n",
      "     5\n",
      "     0\n",
      "\n",
      "\n",
      "v =\n",
      "\n",
      "    14\n",
      "    14\n",
      "     0\n",
      "\n",
      "\n",
      "v =\n",
      "\n",
      "    14\n",
      "    14\n",
      "     1\n",
      "\n",
      "\n",
      "v =\n",
      "\n",
      "    14\n",
      "    14\n",
      "     5\n",
      "\n",
      "\n",
      "v =\n",
      "\n",
      "    14\n",
      "    14\n",
      "    14\n"
     ]
    }
   ],
   "source": [
    "v = zeros(3,1);\n",
    "A = [1 2 3; 1 2 3; 1 2 3];\n",
    "x = [1; 2; 3];\n",
    "for i = 1:3,\n",
    "  for j = 1:3,\n",
    "    v(i) = v(i) + A(i,j) * x(j)\n",
    "  end\n",
    "end"
   ]
  },
  {
   "cell_type": "code",
   "execution_count": 19,
   "metadata": {
    "collapsed": false
   },
   "outputs": [
    {
     "name": "stdout",
     "output_type": "stream",
     "text": [
      "ans =\n",
      "\n",
      "    14\n",
      "    14\n",
      "    14\n"
     ]
    }
   ],
   "source": [
    "A * x"
   ]
  },
  {
   "cell_type": "code",
   "execution_count": 8,
   "metadata": {
    "collapsed": false,
    "scrolled": true
   },
   "outputs": [
    {
     "name": "stdout",
     "output_type": "stream",
     "text": [
      "ans =\n",
      "\n",
      "    14\n"
     ]
    }
   ],
   "source": [
    "v(1)"
   ]
  },
  {
   "cell_type": "code",
   "execution_count": 10,
   "metadata": {
    "collapsed": false
   },
   "outputs": [
    {
     "name": "stdout",
     "output_type": "stream",
     "text": [
      "c =\n",
      "\n",
      "     0\n",
      "     0\n",
      "     0\n"
     ]
    }
   ],
   "source": [
    "c = zeros(3, 1)"
   ]
  },
  {
   "cell_type": "code",
   "execution_count": 11,
   "metadata": {
    "collapsed": false
   },
   "outputs": [
    {
     "name": "stdout",
     "output_type": "stream",
     "text": [
      "ans =\n",
      "\n",
      "     0\n"
     ]
    }
   ],
   "source": [
    "c(1)"
   ]
  },
  {
   "cell_type": "code",
   "execution_count": 12,
   "metadata": {
    "collapsed": false
   },
   "outputs": [
    {
     "name": "stdout",
     "output_type": "stream",
     "text": [
      "ans =\n",
      "\n",
      "     0\n"
     ]
    }
   ],
   "source": [
    "c(1,:)"
   ]
  },
  {
   "cell_type": "code",
   "execution_count": 14,
   "metadata": {
    "collapsed": false,
    "scrolled": true
   },
   "outputs": [
    {
     "name": "stdout",
     "output_type": "stream",
     "text": [
      "ans =\n",
      "\n",
      "     0\n",
      "     0\n",
      "     0\n"
     ]
    }
   ],
   "source": [
    "c()"
   ]
  },
  {
   "cell_type": "code",
   "execution_count": null,
   "metadata": {
    "collapsed": true
   },
   "outputs": [],
   "source": []
  }
 ],
 "metadata": {
  "kernelspec": {
   "display_name": "Matlab",
   "language": "matlab",
   "name": "matlab"
  },
  "language_info": {
   "codemirror_mode": "octave",
   "file_extension": ".m",
   "help_links": [
    {
     "text": "MetaKernel Magics",
     "url": "https://github.com/calysto/metakernel/blob/master/metakernel/magics/README.md"
    }
   ],
   "mimetype": "text/x-octave",
   "name": "matlab",
   "version": "0.10.2"
  }
 },
 "nbformat": 4,
 "nbformat_minor": 0
}
