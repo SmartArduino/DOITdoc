{
 "cells": [
  {
   "cell_type": "code",
   "execution_count": 8,
   "metadata": {
    "collapsed": false
   },
   "outputs": [
    {
     "name": "stderr",
     "output_type": "stream",
     "text": [
      "Error: The input character is not valid in MATLAB statements or expressions.\n"
     ]
    }
   ],
   "source": [
    "data = load(\"machine-learning-ex1/ex1/ex1data1.txt\")"
   ]
  },
  {
   "cell_type": "code",
   "execution_count": 2,
   "metadata": {
    "collapsed": false
   },
   "outputs": [
    {
     "name": "stderr",
     "output_type": "stream",
     "text": [
      "Undefined function or variable 'data'.\n"
     ]
    }
   ],
   "source": [
    "data"
   ]
  },
  {
   "cell_type": "code",
   "execution_count": 4,
   "metadata": {
    "collapsed": false
   },
   "outputs": [
    {
     "name": "stdout",
     "output_type": "stream",
     "text": [
      "head: cannot open ‘ex1data1.txt’ for reading: No such file or directory\n",
      "/home/scott/Documents/BookData/source/stf_ml/Linear_Regression_with_Multiple_Variables\n",
      "head: cannot open ‘ex1data1.txt’ for reading: No such file or directory\n"
     ]
    }
   ],
   "source": [
    "!head ex1data1.txt"
   ]
  },
  {
   "cell_type": "code",
   "execution_count": 5,
   "metadata": {
    "collapsed": false
   },
   "outputs": [
    {
     "name": "stdout",
     "output_type": "stream",
     "text": [
      "/home/scott/Documents/BookData/source/stf_ml/Linear_Regression_with_Multiple_Variables\n",
      "/home/scott/Documents/BookData/source/stf_ml/Linear_Regression_with_Multiple_Variables\n",
      "/home/scott/Documents/BookData/source/stf_ml/Linear_Regression_with_Multiple_Variables\n"
     ]
    }
   ],
   "source": [
    "!pwd"
   ]
  },
  {
   "cell_type": "code",
   "execution_count": 6,
   "metadata": {
    "collapsed": false
   },
   "outputs": [
    {
     "name": "stdout",
     "output_type": "stream",
     "text": [
      "costFunctionJ.m       MatLab_ex.ipynb            Vectorization.ipynb\n",
      "Ex01.ipynb            squareAndCubeThisNumber.m\n",
      "\u001b[0m\u001b[01;34mmachine-learning-ex1\u001b[0m  squareThisNumber.m\n",
      "/home/scott/Documents/BookData/source/stf_ml/Linear_Regression_with_Multiple_Variables\n",
      "\u001b[0m\u001b[01;34mmachine-learning-ex1\u001b[0m  squareThisNumber.m\n"
     ]
    }
   ],
   "source": [
    "!ls"
   ]
  },
  {
   "cell_type": "code",
   "execution_count": null,
   "metadata": {
    "collapsed": true
   },
   "outputs": [],
   "source": []
  }
 ],
 "metadata": {
  "kernelspec": {
   "display_name": "Matlab",
   "language": "matlab",
   "name": "matlab"
  },
  "language_info": {
   "codemirror_mode": "octave",
   "file_extension": ".m",
   "help_links": [
    {
     "text": "MetaKernel Magics",
     "url": "https://github.com/calysto/metakernel/blob/master/metakernel/magics/README.md"
    }
   ],
   "mimetype": "text/x-octave",
   "name": "matlab",
   "version": "0.10.2"
  }
 },
 "nbformat": 4,
 "nbformat_minor": 0
}
