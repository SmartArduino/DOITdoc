{
 "cells": [
  {
   "cell_type": "markdown",
   "metadata": {},
   "source": [
    "## 一个简单的查重测试"
   ]
  },
  {
   "cell_type": "markdown",
   "metadata": {},
   "source": [
    "### 1. 基本数据清理"
   ]
  },
  {
   "cell_type": "markdown",
   "metadata": {},
   "source": [
    "这两行是导入包和数据，直接用 pandas 导入 Excel 数据"
   ]
  },
  {
   "cell_type": "code",
   "execution_count": 1,
   "metadata": {
    "collapsed": true
   },
   "outputs": [],
   "source": [
    "import pandas as pd"
   ]
  },
  {
   "cell_type": "code",
   "execution_count": 2,
   "metadata": {
    "collapsed": false,
    "scrolled": true
   },
   "outputs": [],
   "source": [
    "df = pd.read_excel('/Users/Scott/Desktop/tst.xlsx')"
   ]
  },
  {
   "cell_type": "markdown",
   "metadata": {},
   "source": [
    "用 info 方法简单查看数据基本情况，发现有 6 行的上线日期是空的，57 行的商品条码是空的，..."
   ]
  },
  {
   "cell_type": "code",
   "execution_count": 3,
   "metadata": {
    "collapsed": false,
    "scrolled": false
   },
   "outputs": [
    {
     "name": "stdout",
     "output_type": "stream",
     "text": [
      "<class 'pandas.core.frame.DataFrame'>\n",
      "RangeIndex: 278 entries, 0 to 277\n",
      "Data columns (total 20 columns):\n",
      "上线日期    272 non-null float64\n",
      "众库编码    278 non-null object\n",
      "一级类别    278 non-null object\n",
      "商品条码    221 non-null float64\n",
      "商品名称    256 non-null object\n",
      "品牌      276 non-null object\n",
      "原产地     276 non-null object\n",
      "规格      238 non-null object\n",
      "批发价     276 non-null float64\n",
      "零售价     276 non-null object\n",
      "电商价     276 non-null float64\n",
      "返库币     276 non-null float64\n",
      "返库币值    215 non-null float64\n",
      "天猫销量    274 non-null object\n",
      "京东销量    247 non-null float64\n",
      "价格星级    0 non-null float64\n",
      "人员      116 non-null object\n",
      "项目经理    276 non-null object\n",
      "库存      274 non-null object\n",
      "备注      213 non-null object\n",
      "dtypes: float64(8), object(12)\n",
      "memory usage: 43.5+ KB\n"
     ]
    }
   ],
   "source": [
    "df.info()"
   ]
  },
  {
   "cell_type": "markdown",
   "metadata": {},
   "source": [
    "众库编码是最为重要的，首先看看具体的众库编码有没重复"
   ]
  },
  {
   "cell_type": "code",
   "execution_count": 4,
   "metadata": {
    "collapsed": false,
    "scrolled": true
   },
   "outputs": [
    {
     "data": {
      "text/html": [
       "<div>\n",
       "<table border=\"1\" class=\"dataframe\">\n",
       "  <thead>\n",
       "    <tr style=\"text-align: right;\">\n",
       "      <th></th>\n",
       "      <th>上线日期</th>\n",
       "      <th>众库编码</th>\n",
       "      <th>一级类别</th>\n",
       "      <th>商品条码</th>\n",
       "      <th>商品名称</th>\n",
       "      <th>品牌</th>\n",
       "      <th>原产地</th>\n",
       "      <th>规格</th>\n",
       "      <th>批发价</th>\n",
       "      <th>零售价</th>\n",
       "      <th>电商价</th>\n",
       "      <th>返库币</th>\n",
       "      <th>返库币值</th>\n",
       "      <th>天猫销量</th>\n",
       "      <th>京东销量</th>\n",
       "      <th>价格星级</th>\n",
       "      <th>人员</th>\n",
       "      <th>项目经理</th>\n",
       "      <th>库存</th>\n",
       "      <th>备注</th>\n",
       "    </tr>\n",
       "  </thead>\n",
       "  <tbody>\n",
       "    <tr>\n",
       "      <th>64</th>\n",
       "      <td>NaN</td>\n",
       "      <td>H59200042-H59200050</td>\n",
       "      <td>空置</td>\n",
       "      <td>NaN</td>\n",
       "      <td>NaN</td>\n",
       "      <td>NaN</td>\n",
       "      <td>NaN</td>\n",
       "      <td>NaN</td>\n",
       "      <td>NaN</td>\n",
       "      <td>NaN</td>\n",
       "      <td>NaN</td>\n",
       "      <td>NaN</td>\n",
       "      <td>NaN</td>\n",
       "      <td>NaN</td>\n",
       "      <td>NaN</td>\n",
       "      <td>NaN</td>\n",
       "      <td>NaN</td>\n",
       "      <td>NaN</td>\n",
       "      <td>NaN</td>\n",
       "      <td>NaN</td>\n",
       "    </tr>\n",
       "    <tr>\n",
       "      <th>65</th>\n",
       "      <td>NaN</td>\n",
       "      <td>H59200042-H59200050</td>\n",
       "      <td>空置</td>\n",
       "      <td>NaN</td>\n",
       "      <td>NaN</td>\n",
       "      <td>NaN</td>\n",
       "      <td>NaN</td>\n",
       "      <td>NaN</td>\n",
       "      <td>NaN</td>\n",
       "      <td>NaN</td>\n",
       "      <td>NaN</td>\n",
       "      <td>NaN</td>\n",
       "      <td>NaN</td>\n",
       "      <td>NaN</td>\n",
       "      <td>NaN</td>\n",
       "      <td>NaN</td>\n",
       "      <td>NaN</td>\n",
       "      <td>NaN</td>\n",
       "      <td>NaN</td>\n",
       "      <td>NaN</td>\n",
       "    </tr>\n",
       "  </tbody>\n",
       "</table>\n",
       "</div>"
      ],
      "text/plain": [
       "    上线日期                 众库编码 一级类别  商品条码 商品名称   品牌  原产地   规格  批发价  零售价  电商价  \\\n",
       "64   NaN  H59200042-H59200050   空置   NaN  NaN  NaN  NaN  NaN  NaN  NaN  NaN   \n",
       "65   NaN  H59200042-H59200050   空置   NaN  NaN  NaN  NaN  NaN  NaN  NaN  NaN   \n",
       "\n",
       "    返库币  返库币值 天猫销量  京东销量  价格星级   人员 项目经理   库存   备注  \n",
       "64  NaN   NaN  NaN   NaN   NaN  NaN  NaN  NaN  NaN  \n",
       "65  NaN   NaN  NaN   NaN   NaN  NaN  NaN  NaN  NaN  "
      ]
     },
     "execution_count": 4,
     "metadata": {},
     "output_type": "execute_result"
    }
   ],
   "source": [
    "df1 = df[df['众库编码'].duplicated(keep=False)]\n",
    "df1"
   ]
  },
  {
   "cell_type": "markdown",
   "metadata": {},
   "source": [
    "发现有两行重复数据，且大部分列是空值，drop 删除"
   ]
  },
  {
   "cell_type": "code",
   "execution_count": 5,
   "metadata": {
    "collapsed": false
   },
   "outputs": [],
   "source": [
    "df = df.drop([64,65])"
   ]
  },
  {
   "cell_type": "markdown",
   "metadata": {},
   "source": [
    "再查看基本信息，发现数据已经减少两行了"
   ]
  },
  {
   "cell_type": "code",
   "execution_count": 6,
   "metadata": {
    "collapsed": false,
    "scrolled": false
   },
   "outputs": [
    {
     "name": "stdout",
     "output_type": "stream",
     "text": [
      "<class 'pandas.core.frame.DataFrame'>\n",
      "Int64Index: 276 entries, 0 to 277\n",
      "Data columns (total 20 columns):\n",
      "上线日期    272 non-null float64\n",
      "众库编码    276 non-null object\n",
      "一级类别    276 non-null object\n",
      "商品条码    221 non-null float64\n",
      "商品名称    256 non-null object\n",
      "品牌      276 non-null object\n",
      "原产地     276 non-null object\n",
      "规格      238 non-null object\n",
      "批发价     276 non-null float64\n",
      "零售价     276 non-null object\n",
      "电商价     276 non-null float64\n",
      "返库币     276 non-null float64\n",
      "返库币值    215 non-null float64\n",
      "天猫销量    274 non-null object\n",
      "京东销量    247 non-null float64\n",
      "价格星级    0 non-null float64\n",
      "人员      116 non-null object\n",
      "项目经理    276 non-null object\n",
      "库存      274 non-null object\n",
      "备注      213 non-null object\n",
      "dtypes: float64(8), object(12)\n",
      "memory usage: 45.3+ KB\n"
     ]
    }
   ],
   "source": [
    "df.info()"
   ]
  },
  {
   "cell_type": "markdown",
   "metadata": {},
   "source": [
    "### 2. 深度查重"
   ]
  },
  {
   "cell_type": "code",
   "execution_count": 7,
   "metadata": {
    "collapsed": false,
    "scrolled": true
   },
   "outputs": [
    {
     "data": {
      "text/plain": [
       "0         R10U\n",
       "1         R12U\n",
       "2         R18T\n",
       "3    R1000TC北美\n",
       "4      R1700BT\n",
       "Name: 商品名称, dtype: object"
      ]
     },
     "execution_count": 7,
     "metadata": {},
     "output_type": "execute_result"
    }
   ],
   "source": [
    "df['商品名称'].head()"
   ]
  },
  {
   "cell_type": "markdown",
   "metadata": {},
   "source": [
    "从上方这头几行可以看到，商品名称也有特定的型号，所以也可以查重看看"
   ]
  },
  {
   "cell_type": "code",
   "execution_count": 8,
   "metadata": {
    "collapsed": false,
    "scrolled": false
   },
   "outputs": [
    {
     "name": "stdout",
     "output_type": "stream",
     "text": [
      "<class 'pandas.core.frame.DataFrame'>\n",
      "Int64Index: 25 entries, 19 to 240\n",
      "Data columns (total 20 columns):\n",
      "上线日期    25 non-null float64\n",
      "众库编码    25 non-null object\n",
      "一级类别    25 non-null object\n",
      "商品条码    21 non-null float64\n",
      "商品名称    6 non-null object\n",
      "品牌      25 non-null object\n",
      "原产地     25 non-null object\n",
      "规格      6 non-null object\n",
      "批发价     25 non-null float64\n",
      "零售价     25 non-null object\n",
      "电商价     25 non-null float64\n",
      "返库币     25 non-null float64\n",
      "返库币值    23 non-null float64\n",
      "天猫销量    25 non-null object\n",
      "京东销量    25 non-null float64\n",
      "价格星级    0 non-null float64\n",
      "人员      2 non-null object\n",
      "项目经理    25 non-null object\n",
      "库存      25 non-null object\n",
      "备注      23 non-null object\n",
      "dtypes: float64(8), object(12)\n",
      "memory usage: 4.1+ KB\n"
     ]
    }
   ],
   "source": [
    "df[df['商品名称'].duplicated()].info()"
   ]
  },
  {
   "cell_type": "markdown",
   "metadata": {},
   "source": [
    "重复率居然高达 27 个，非常奇怪，仔细查看下数据"
   ]
  },
  {
   "cell_type": "code",
   "execution_count": 9,
   "metadata": {
    "collapsed": false,
    "scrolled": false
   },
   "outputs": [
    {
     "data": {
      "text/html": [
       "<div>\n",
       "<table border=\"1\" class=\"dataframe\">\n",
       "  <thead>\n",
       "    <tr style=\"text-align: right;\">\n",
       "      <th></th>\n",
       "      <th>上线日期</th>\n",
       "      <th>众库编码</th>\n",
       "      <th>一级类别</th>\n",
       "      <th>商品条码</th>\n",
       "      <th>商品名称</th>\n",
       "      <th>品牌</th>\n",
       "      <th>原产地</th>\n",
       "      <th>规格</th>\n",
       "      <th>批发价</th>\n",
       "      <th>零售价</th>\n",
       "    </tr>\n",
       "  </thead>\n",
       "  <tbody>\n",
       "    <tr>\n",
       "      <th>18</th>\n",
       "      <td>827.0</td>\n",
       "      <td>F59200052-1</td>\n",
       "      <td>数码电器</td>\n",
       "      <td>NaN</td>\n",
       "      <td>SoundTouch 10</td>\n",
       "      <td>Bose</td>\n",
       "      <td>墨西哥/马来西亚</td>\n",
       "      <td>白</td>\n",
       "      <td>1500.0</td>\n",
       "      <td>1700</td>\n",
       "    </tr>\n",
       "    <tr>\n",
       "      <th>19</th>\n",
       "      <td>827.0</td>\n",
       "      <td>F59200052-2</td>\n",
       "      <td>数码电器</td>\n",
       "      <td>NaN</td>\n",
       "      <td>SoundTouch 10</td>\n",
       "      <td>Bose</td>\n",
       "      <td>墨西哥/马来西亚</td>\n",
       "      <td>黑</td>\n",
       "      <td>1500.0</td>\n",
       "      <td>1700</td>\n",
       "    </tr>\n",
       "    <tr>\n",
       "      <th>20</th>\n",
       "      <td>827.0</td>\n",
       "      <td>F59200053-1</td>\n",
       "      <td>数码电器</td>\n",
       "      <td>NaN</td>\n",
       "      <td>SoundTouch 20 III</td>\n",
       "      <td>Bose</td>\n",
       "      <td>墨西哥/马来西亚</td>\n",
       "      <td>白</td>\n",
       "      <td>2692.0</td>\n",
       "      <td>3200</td>\n",
       "    </tr>\n",
       "    <tr>\n",
       "      <th>21</th>\n",
       "      <td>827.0</td>\n",
       "      <td>F59200053-2</td>\n",
       "      <td>数码电器</td>\n",
       "      <td>NaN</td>\n",
       "      <td>SoundTouch 20 III</td>\n",
       "      <td>Bose</td>\n",
       "      <td>墨西哥/马来西亚</td>\n",
       "      <td>黑</td>\n",
       "      <td>2692.0</td>\n",
       "      <td>3200</td>\n",
       "    </tr>\n",
       "    <tr>\n",
       "      <th>23</th>\n",
       "      <td>827.0</td>\n",
       "      <td>F59200055-1</td>\n",
       "      <td>数码电器</td>\n",
       "      <td>NaN</td>\n",
       "      <td>SoundTouch 30 III</td>\n",
       "      <td>Bose</td>\n",
       "      <td>墨西哥/马来西亚</td>\n",
       "      <td>黑</td>\n",
       "      <td>4024.0</td>\n",
       "      <td>4580</td>\n",
       "    </tr>\n",
       "  </tbody>\n",
       "</table>\n",
       "</div>"
      ],
      "text/plain": [
       "     上线日期         众库编码  一级类别  商品条码                 商品名称    品牌       原产地 规格  \\\n",
       "18  827.0  F59200052-1  数码电器   NaN        SoundTouch 10  Bose  墨西哥/马来西亚  白   \n",
       "19  827.0  F59200052-2  数码电器   NaN        SoundTouch 10  Bose  墨西哥/马来西亚  黑   \n",
       "20  827.0  F59200053-1  数码电器   NaN    SoundTouch 20 III  Bose  墨西哥/马来西亚  白   \n",
       "21  827.0  F59200053-2  数码电器   NaN    SoundTouch 20 III  Bose  墨西哥/马来西亚  黑   \n",
       "23  827.0  F59200055-1  数码电器   NaN   SoundTouch 30 III   Bose  墨西哥/马来西亚  黑   \n",
       "\n",
       "       批发价   零售价  \n",
       "18  1500.0  1700  \n",
       "19  1500.0  1700  \n",
       "20  2692.0  3200  \n",
       "21  2692.0  3200  \n",
       "23  4024.0  4580  "
      ]
     },
     "execution_count": 9,
     "metadata": {},
     "output_type": "execute_result"
    }
   ],
   "source": [
    "df[df['商品名称'].duplicated(keep=False)].iloc[:, :10].head()"
   ]
  },
  {
   "cell_type": "markdown",
   "metadata": {},
   "source": [
    "从上方的输出发现原来商品名称一样的产品，规格不一样，这个解决思路也很简单，可以把商品名称和规格拼接起来单独做一列，针对这列查重即可"
   ]
  },
  {
   "cell_type": "code",
   "execution_count": 10,
   "metadata": {
    "collapsed": false
   },
   "outputs": [],
   "source": [
    "df['Added']  = df['商品名称'] + ' ' + df['规格']"
   ]
  },
  {
   "cell_type": "code",
   "execution_count": 11,
   "metadata": {
    "collapsed": false
   },
   "outputs": [
    {
     "data": {
      "text/plain": [
       "0                 NaN\n",
       "1                 NaN\n",
       "2                 NaN\n",
       "3                 NaN\n",
       "4                 NaN\n",
       "5                 NaN\n",
       "6                 NaN\n",
       "7                 NaN\n",
       "8                 NaN\n",
       "9                 NaN\n",
       "10                NaN\n",
       "11                NaN\n",
       "12                NaN\n",
       "13                NaN\n",
       "14                NaN\n",
       "15                NaN\n",
       "16                NaN\n",
       "17                NaN\n",
       "18    SoundTouch 10 白\n",
       "19    SoundTouch 10 黑\n",
       "Name: Added, dtype: object"
      ]
     },
     "execution_count": 11,
     "metadata": {},
     "output_type": "execute_result"
    }
   ],
   "source": [
    "df.Added.head(20)"
   ]
  },
  {
   "cell_type": "code",
   "execution_count": 12,
   "metadata": {
    "collapsed": false,
    "scrolled": false
   },
   "outputs": [
    {
     "data": {
      "text/html": [
       "<div>\n",
       "<table border=\"1\" class=\"dataframe\">\n",
       "  <thead>\n",
       "    <tr style=\"text-align: right;\">\n",
       "      <th></th>\n",
       "      <th>上线日期</th>\n",
       "      <th>众库编码</th>\n",
       "      <th>一级类别</th>\n",
       "      <th>商品条码</th>\n",
       "      <th>商品名称</th>\n",
       "      <th>品牌</th>\n",
       "      <th>原产地</th>\n",
       "      <th>规格</th>\n",
       "      <th>批发价</th>\n",
       "      <th>零售价</th>\n",
       "      <th>...</th>\n",
       "      <th>返库币</th>\n",
       "      <th>返库币值</th>\n",
       "      <th>天猫销量</th>\n",
       "      <th>京东销量</th>\n",
       "      <th>价格星级</th>\n",
       "      <th>人员</th>\n",
       "      <th>项目经理</th>\n",
       "      <th>库存</th>\n",
       "      <th>备注</th>\n",
       "      <th>Added</th>\n",
       "    </tr>\n",
       "  </thead>\n",
       "  <tbody>\n",
       "  </tbody>\n",
       "</table>\n",
       "<p>0 rows × 21 columns</p>\n",
       "</div>"
      ],
      "text/plain": [
       "Empty DataFrame\n",
       "Columns: [上线日期, 众库编码, 一级类别, 商品条码, 商品名称, 品牌, 原产地, 规格, 批发价, 零售价, 电商价, 返库币, 返库币值, 天猫销量, 京东销量, 价格星级, 人员, 项目经理, 库存, 备注, Added]\n",
       "Index: []\n",
       "\n",
       "[0 rows x 21 columns]"
      ]
     },
     "execution_count": 12,
     "metadata": {},
     "output_type": "execute_result"
    }
   ],
   "source": [
    "df[df.Added.duplicated() & df.Added.notnull()]"
   ]
  },
  {
   "cell_type": "markdown",
   "metadata": {},
   "source": [
    "上方返回数据为空，所以此表基本没有重复了。把清理好的数据用 pd.to_excel 方法导出即可。"
   ]
  },
  {
   "cell_type": "markdown",
   "metadata": {},
   "source": [
    "     "
   ]
  },
  {
   "cell_type": "markdown",
   "metadata": {},
   "source": [
    "**备注：** 写于 9.3  日早，15 分钟完成\n",
    "\n",
    "**建议：** 查重 Excel 解决不了根本问题，手工输难免出错。建议公司招聘 DBA（数据库管理员）或运维，让数据人员把清理好的数据一键导入即可。省时省力出错少。"
   ]
  }
 ],
 "metadata": {
  "kernelspec": {
   "display_name": "Python 3",
   "language": "python",
   "name": "python3"
  },
  "language_info": {
   "codemirror_mode": {
    "name": "ipython",
    "version": 3
   },
   "file_extension": ".py",
   "mimetype": "text/x-python",
   "name": "python",
   "nbconvert_exporter": "python",
   "pygments_lexer": "ipython3",
   "version": "3.5.2"
  }
 },
 "nbformat": 4,
 "nbformat_minor": 1
}
